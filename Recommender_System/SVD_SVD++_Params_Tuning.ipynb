{
 "cells": [
  {
   "cell_type": "code",
   "execution_count": 5,
   "id": "furnished-halloween",
   "metadata": {
    "ExecuteTime": {
     "end_time": "2021-04-27T21:36:22.975707Z",
     "start_time": "2021-04-27T21:36:22.957753Z"
    }
   },
   "outputs": [],
   "source": [
    "from MovieLens import MovieLens\n",
    "from surprise import SVD, SVDpp\n",
    "from surprise import NormalPredictor\n",
    "from surprise.model_selection import GridSearchCV\n",
    "from Evaluator import Evaluator\n",
    "import random\n",
    "import numpy as np"
   ]
  },
  {
   "cell_type": "code",
   "execution_count": 2,
   "id": "human-district",
   "metadata": {
    "ExecuteTime": {
     "end_time": "2021-04-27T21:14:58.523133Z",
     "start_time": "2021-04-27T21:14:58.519144Z"
    }
   },
   "outputs": [],
   "source": [
    "def LoadMovieLensData():\n",
    "    ml = MovieLens()\n",
    "    print(\"Loading movie ratings...\")\n",
    "    data = ml.load_movies_dataset()\n",
    "    print(\"\\nComputing movie popularity ranks...\")\n",
    "    rankings = ml.get_popularity_ranks()\n",
    "    return (ml, data, rankings)\n",
    "\n",
    "np.random.seed(0)\n",
    "random.seed(0)"
   ]
  },
  {
   "cell_type": "code",
   "execution_count": 3,
   "id": "creative-vertex",
   "metadata": {
    "ExecuteTime": {
     "end_time": "2021-04-27T21:15:24.593157Z",
     "start_time": "2021-04-27T21:15:24.219155Z"
    }
   },
   "outputs": [
    {
     "name": "stdout",
     "output_type": "stream",
     "text": [
      "Loading movie ratings...\n",
      "\n",
      "Computing movie popularity ranks...\n"
     ]
    }
   ],
   "source": [
    "# Load up common data set for the recommender algorithms\n",
    "(ml, evaluationData, rankings) = LoadMovieLensData()"
   ]
  },
  {
   "cell_type": "code",
   "execution_count": 6,
   "id": "exciting-meditation",
   "metadata": {
    "ExecuteTime": {
     "end_time": "2021-04-27T21:37:49.936016Z",
     "start_time": "2021-04-27T21:36:25.191366Z"
    }
   },
   "outputs": [
    {
     "name": "stdout",
     "output_type": "stream",
     "text": [
      "Searching for best parameters...\n"
     ]
    }
   ],
   "source": [
    "print(\"Searching for best parameters...\")\n",
    "param_grid = {'n_epochs': [20, 30], 'lr_all': [0.005, 0.010],\n",
    "              'n_factors': [50, 100]}\n",
    "gs = GridSearchCV(SVD, param_grid, measures=['rmse', 'mae'], cv=3)\n",
    "\n",
    "gs.fit(evaluationData)"
   ]
  },
  {
   "cell_type": "code",
   "execution_count": 7,
   "id": "conservative-browser",
   "metadata": {
    "ExecuteTime": {
     "end_time": "2021-04-27T21:37:49.966798Z",
     "start_time": "2021-04-27T21:37:49.953390Z"
    }
   },
   "outputs": [
    {
     "name": "stdout",
     "output_type": "stream",
     "text": [
      "Best RMSE score attained:  0.8776329487069042\n",
      "{'n_epochs': 20, 'lr_all': 0.005, 'n_factors': 50}\n"
     ]
    }
   ],
   "source": [
    "# best RMSE score\n",
    "print(\"Best RMSE score attained: \", gs.best_score['rmse'])\n",
    "\n",
    "# combination of parameters that gave the best RMSE score\n",
    "print(gs.best_params['rmse'])"
   ]
  },
  {
   "cell_type": "code",
   "execution_count": 8,
   "id": "qualified-volunteer",
   "metadata": {
    "ExecuteTime": {
     "end_time": "2021-04-27T21:38:14.303986Z",
     "start_time": "2021-04-27T21:37:49.983188Z"
    }
   },
   "outputs": [
    {
     "name": "stdout",
     "output_type": "stream",
     "text": [
      "Estimating biases using als...\n",
      "Computing the cosine similarity matrix...\n",
      "Done computing similarity matrix.\n"
     ]
    }
   ],
   "source": [
    "# Construct an evaluator to evaluate them\n",
    "evaluator = Evaluator(evaluationData, rankings)\n",
    "\n",
    "params = gs.best_params['rmse']\n",
    "SVDtuned = SVD(n_epochs = params['n_epochs'], lr_all = params['lr_all'], n_factors = params['n_factors'])\n",
    "evaluator.AddAlgorithm(SVDtuned, \"SVD - Tuned\")\n",
    "\n",
    "SVDUntuned = SVD()\n",
    "evaluator.AddAlgorithm(SVDUntuned, \"SVD - Untuned\")\n",
    "\n",
    "# Make a random recommendations to compare\n",
    "Random = NormalPredictor()\n",
    "evaluator.AddAlgorithm(Random, \"Random\")"
   ]
  },
  {
   "cell_type": "code",
   "execution_count": 9,
   "id": "standing-greene",
   "metadata": {
    "ExecuteTime": {
     "end_time": "2021-04-27T21:38:28.855475Z",
     "start_time": "2021-04-27T21:38:14.320964Z"
    }
   },
   "outputs": [
    {
     "name": "stdout",
     "output_type": "stream",
     "text": [
      "Evaluating  SVD - Tuned ...\n",
      "Evaluating accuracy...\n",
      "Analysis complete.\n",
      "Evaluating  SVD - Untuned ...\n",
      "Evaluating accuracy...\n",
      "Analysis complete.\n",
      "Evaluating  Random ...\n",
      "Evaluating accuracy...\n",
      "Analysis complete.\n",
      "\n",
      "\n",
      "Algorithm  RMSE       MAE       \n",
      "SVD - Tuned 0.8798     0.6748    \n",
      "SVD - Untuned 0.8817     0.6759    \n",
      "Random     1.4240     1.1349    \n",
      "\n",
      "Legend:\n",
      "\n",
      "RMSE:      Root Mean Squared Error. Lower values mean better accuracy.\n",
      "MAE:       Mean Absolute Error. Lower values mean better accuracy.\n",
      "\n",
      "Using recommender  SVD - Tuned\n",
      "\n",
      "Building recommendation model...\n",
      "Computing recommendations...\n",
      "\n",
      "We recommend:\n",
      "Shawshank Redemption, The (1994) 4.671092261928114\n",
      "There Will Be Blood (2007) 4.643516128856176\n",
      "City of God (Cidade de Deus) (2002) 4.625487008941527\n",
      "Eternal Sunshine of the Spotless Mind (2004) 4.613154561288935\n",
      "Dr. Strangelove or: How I Learned to Stop Worrying and Love the Bomb (1964) 4.607189309577227\n",
      "Blade Runner (1982) 4.597743330419324\n",
      "Pianist, The (2002) 4.596961727969341\n",
      "Life Is Beautiful (La Vita Ã¨ bella) (1997) 4.585120104901703\n",
      "Whiplash (2014) 4.557262672147175\n",
      "Guess Who's Coming to Dinner (1967) 4.552203161458338\n",
      "\n",
      "Using recommender  SVD - Untuned\n",
      "\n",
      "Building recommendation model...\n",
      "Computing recommendations...\n",
      "\n",
      "We recommend:\n",
      "Schindler's List (1993) 4.806142111793481\n",
      "Shawshank Redemption, The (1994) 4.770335248049682\n",
      "Dark Knight, The (2008) 4.678623665500395\n",
      "Lawrence of Arabia (1962) 4.640832373835336\n",
      "Dr. Strangelove or: How I Learned to Stop Worrying and Love the Bomb (1964) 4.6404329979852355\n",
      "Godfather: Part II, The (1974) 4.631106971742977\n",
      "Rosemary's Baby (1968) 4.628968816283825\n",
      "City of God (Cidade de Deus) (2002) 4.5975317918866825\n",
      "Bridge on the River Kwai, The (1957) 4.591453225800661\n",
      "Full Metal Jacket (1987) 4.58610399823194\n",
      "\n",
      "Using recommender  Random\n",
      "\n",
      "Building recommendation model...\n",
      "Computing recommendations...\n",
      "\n",
      "We recommend:\n",
      "Braveheart (1995) 5\n",
      "Dances with Wolves (1990) 5\n",
      "James and the Giant Peach (1996) 5\n",
      "Twister (1996) 5\n",
      "Swingers (1996) 5\n",
      "Monty Python's Life of Brian (1979) 5\n",
      "Abyss, The (1989) 5\n",
      "Raiders of the Lost Ark (Indiana Jones and the Raiders of the Lost Ark) (1981) 5\n",
      "Alien (1979) 5\n",
      "McHale's Navy (1997) 5\n"
     ]
    }
   ],
   "source": [
    "# Compare them\n",
    "evaluator.Evaluate(False)\n",
    "\n",
    "evaluator.SampleTopNRecs(ml)"
   ]
  },
  {
   "cell_type": "code",
   "execution_count": null,
   "id": "drawn-bankruptcy",
   "metadata": {},
   "outputs": [],
   "source": []
  }
 ],
 "metadata": {
  "kernelspec": {
   "display_name": "Python [conda env:metis] *",
   "language": "python",
   "name": "conda-env-metis-py"
  },
  "language_info": {
   "codemirror_mode": {
    "name": "ipython",
    "version": 3
   },
   "file_extension": ".py",
   "mimetype": "text/x-python",
   "name": "python",
   "nbconvert_exporter": "python",
   "pygments_lexer": "ipython3",
   "version": "3.8.8"
  },
  "toc": {
   "base_numbering": 1,
   "nav_menu": {},
   "number_sections": true,
   "sideBar": true,
   "skip_h1_title": false,
   "title_cell": "Table of Contents",
   "title_sidebar": "Contents",
   "toc_cell": false,
   "toc_position": {},
   "toc_section_display": true,
   "toc_window_display": false
  },
  "varInspector": {
   "cols": {
    "lenName": 16,
    "lenType": 16,
    "lenVar": 40
   },
   "kernels_config": {
    "python": {
     "delete_cmd_postfix": "",
     "delete_cmd_prefix": "del ",
     "library": "var_list.py",
     "varRefreshCmd": "print(var_dic_list())"
    },
    "r": {
     "delete_cmd_postfix": ") ",
     "delete_cmd_prefix": "rm(",
     "library": "var_list.r",
     "varRefreshCmd": "cat(var_dic_list()) "
    }
   },
   "types_to_exclude": [
    "module",
    "function",
    "builtin_function_or_method",
    "instance",
    "_Feature"
   ],
   "window_display": false
  }
 },
 "nbformat": 4,
 "nbformat_minor": 5
}
