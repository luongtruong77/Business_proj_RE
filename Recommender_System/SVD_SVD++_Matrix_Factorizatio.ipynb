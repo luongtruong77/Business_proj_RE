{
 "cells": [
  {
   "cell_type": "code",
   "execution_count": 1,
   "id": "saved-interim",
   "metadata": {
    "ExecuteTime": {
     "end_time": "2021-04-27T21:11:39.172600Z",
     "start_time": "2021-04-27T21:11:38.619173Z"
    }
   },
   "outputs": [],
   "source": [
    "from MovieLens import MovieLens\n",
    "from surprise import SVD, SVDpp\n",
    "from surprise import NormalPredictor\n",
    "from Evaluator import Evaluator\n",
    "import random\n",
    "import numpy as np"
   ]
  },
  {
   "cell_type": "code",
   "execution_count": 2,
   "id": "emerging-flood",
   "metadata": {
    "ExecuteTime": {
     "end_time": "2021-04-27T21:12:06.435836Z",
     "start_time": "2021-04-27T21:12:06.425860Z"
    }
   },
   "outputs": [],
   "source": [
    "def LoadMovieLensData():\n",
    "    ml = MovieLens()\n",
    "    print(\"Loading movie ratings...\")\n",
    "    data = ml.load_movies_dataset()\n",
    "    print(\"\\nComputing movie popularity ranks...\")\n",
    "    rankings = ml.get_popularity_ranks()\n",
    "    return (ml, data, rankings)\n",
    "\n",
    "np.random.seed(0)\n",
    "random.seed(0)"
   ]
  },
  {
   "cell_type": "code",
   "execution_count": 3,
   "id": "indonesian-incident",
   "metadata": {
    "ExecuteTime": {
     "end_time": "2021-04-27T21:12:46.960745Z",
     "start_time": "2021-04-27T21:12:19.927087Z"
    }
   },
   "outputs": [
    {
     "name": "stdout",
     "output_type": "stream",
     "text": [
      "Loading movie ratings...\n",
      "\n",
      "Computing movie popularity ranks...\n",
      "Estimating biases using als...\n",
      "Computing the cosine similarity matrix...\n",
      "Done computing similarity matrix.\n"
     ]
    }
   ],
   "source": [
    "# Load up common data set for the recommender algorithms\n",
    "(ml, evaluationData, rankings) = LoadMovieLensData()\n",
    "\n",
    "# Construct an Evaluator to, you know, evaluate them\n",
    "evaluator = Evaluator(evaluationData, rankings)"
   ]
  },
  {
   "cell_type": "code",
   "execution_count": 4,
   "id": "driven-assault",
   "metadata": {
    "ExecuteTime": {
     "end_time": "2021-04-27T21:13:34.553470Z",
     "start_time": "2021-04-27T21:13:34.549479Z"
    }
   },
   "outputs": [],
   "source": [
    "#Now we evaluate 3 different algorithms\n",
    "\n",
    "# SVD\n",
    "SVD = SVD()\n",
    "evaluator.AddAlgorithm(SVD, \"SVD\")\n",
    "\n",
    "# SVD++\n",
    "SVDPlusPlus = SVDpp()\n",
    "evaluator.AddAlgorithm(SVDPlusPlus, \"SVD++\")\n",
    "\n",
    "# Just make random recommendations\n",
    "Random = NormalPredictor()\n",
    "evaluator.AddAlgorithm(Random, \"Random\")"
   ]
  },
  {
   "cell_type": "code",
   "execution_count": 5,
   "id": "minor-natural",
   "metadata": {
    "ExecuteTime": {
     "end_time": "2021-04-27T21:33:04.180665Z",
     "start_time": "2021-04-27T21:13:43.553853Z"
    }
   },
   "outputs": [
    {
     "name": "stdout",
     "output_type": "stream",
     "text": [
      "Evaluating  SVD ...\n",
      "Evaluating accuracy...\n",
      "Analysis complete.\n",
      "Evaluating  SVD++ ...\n",
      "Evaluating accuracy...\n",
      "Analysis complete.\n",
      "Evaluating  Random ...\n",
      "Evaluating accuracy...\n",
      "Analysis complete.\n",
      "\n",
      "\n",
      "Algorithm  RMSE       MAE       \n",
      "SVD        0.8844     0.6784    \n",
      "SVD++      0.8751     0.6679    \n",
      "Random     1.4254     1.1415    \n",
      "\n",
      "Legend:\n",
      "\n",
      "RMSE:      Root Mean Squared Error. Lower values mean better accuracy.\n",
      "MAE:       Mean Absolute Error. Lower values mean better accuracy.\n",
      "\n",
      "Using recommender  SVD\n",
      "\n",
      "Building recommendation model...\n",
      "Computing recommendations...\n",
      "\n",
      "We recommend:\n",
      "Grave of the Fireflies (Hotaru no haka) (1988) 4.734477586346975\n",
      "Star Wars: Episode V - The Empire Strikes Back (1980) 4.654823276203965\n",
      "Star Wars: Episode IV - A New Hope (1977) 4.653048638837485\n",
      "North by Northwest (1959) 4.641074428344374\n",
      "There Will Be Blood (2007) 4.627617310166413\n",
      "Amadeus (1984) 4.608820391685571\n",
      "Shawshank Redemption, The (1994) 4.607882008270688\n",
      "Great Escape, The (1963) 4.606448348919878\n",
      "Fargo (1996) 4.601501307451326\n",
      "Streetcar Named Desire, A (1951) 4.600220373942336\n",
      "\n",
      "Using recommender  SVD++\n",
      "\n",
      "Building recommendation model...\n",
      "Computing recommendations...\n",
      "\n",
      "We recommend:\n",
      "Streetcar Named Desire, A (1951) 4.724714625661872\n",
      "Shawshank Redemption, The (1994) 4.683512411645669\n",
      "Guess Who's Coming to Dinner (1967) 4.673367971037993\n",
      "Philadelphia Story, The (1940) 4.632099662625852\n",
      "Lawrence of Arabia (1962) 4.624164245028042\n",
      "Three Billboards Outside Ebbing, Missouri (2017) 4.618440348839453\n",
      "Hoop Dreams (1994) 4.592418316062646\n",
      "Day of the Doctor, The (2013) 4.582691046282302\n",
      "Usual Suspects, The (1995) 4.580568055620712\n",
      "Cool Hand Luke (1967) 4.564110920852426\n",
      "\n",
      "Using recommender  Random\n",
      "\n",
      "Building recommendation model...\n",
      "Computing recommendations...\n",
      "\n",
      "We recommend:\n",
      "Desperado (1995) 5\n",
      "Star Wars: Episode IV - A New Hope (1977) 5\n",
      "Tommy Boy (1995) 5\n",
      "Basic Instinct (1992) 5\n",
      "Con Air (1997) 5\n",
      "Saving Private Ryan (1998) 5\n",
      "Negotiator, The (1998) 5\n",
      "Charlotte's Web (1973) 5\n",
      "Legend (1985) 5\n",
      "Texas Chainsaw Massacre, The (1974) 5\n"
     ]
    }
   ],
   "source": [
    "# Compare them\n",
    "\n",
    "evaluator.Evaluate(False)\n",
    "\n",
    "evaluator.SampleTopNRecs(ml)\n"
   ]
  },
  {
   "cell_type": "code",
   "execution_count": null,
   "id": "geological-pontiac",
   "metadata": {},
   "outputs": [],
   "source": []
  }
 ],
 "metadata": {
  "kernelspec": {
   "display_name": "Python [conda env:metis] *",
   "language": "python",
   "name": "conda-env-metis-py"
  },
  "language_info": {
   "codemirror_mode": {
    "name": "ipython",
    "version": 3
   },
   "file_extension": ".py",
   "mimetype": "text/x-python",
   "name": "python",
   "nbconvert_exporter": "python",
   "pygments_lexer": "ipython3",
   "version": "3.8.8"
  },
  "toc": {
   "base_numbering": 1,
   "nav_menu": {},
   "number_sections": true,
   "sideBar": true,
   "skip_h1_title": false,
   "title_cell": "Table of Contents",
   "title_sidebar": "Contents",
   "toc_cell": false,
   "toc_position": {},
   "toc_section_display": true,
   "toc_window_display": false
  },
  "varInspector": {
   "cols": {
    "lenName": 16,
    "lenType": 16,
    "lenVar": 40
   },
   "kernels_config": {
    "python": {
     "delete_cmd_postfix": "",
     "delete_cmd_prefix": "del ",
     "library": "var_list.py",
     "varRefreshCmd": "print(var_dic_list())"
    },
    "r": {
     "delete_cmd_postfix": ") ",
     "delete_cmd_prefix": "rm(",
     "library": "var_list.r",
     "varRefreshCmd": "cat(var_dic_list()) "
    }
   },
   "types_to_exclude": [
    "module",
    "function",
    "builtin_function_or_method",
    "instance",
    "_Feature"
   ],
   "window_display": false
  }
 },
 "nbformat": 4,
 "nbformat_minor": 5
}
