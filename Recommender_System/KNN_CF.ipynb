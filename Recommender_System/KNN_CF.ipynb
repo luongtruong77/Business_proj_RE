{
 "cells": [
  {
   "cell_type": "code",
   "execution_count": 1,
   "id": "serious-attention",
   "metadata": {
    "ExecuteTime": {
     "end_time": "2021-04-27T19:13:46.460382Z",
     "start_time": "2021-04-27T19:13:45.395885Z"
    }
   },
   "outputs": [],
   "source": [
    "from MovieLens import MovieLens\n",
    "from surprise import KNNBasic\n",
    "from surprise import NormalPredictor\n",
    "from Evaluator import Evaluator\n",
    "\n",
    "import random\n",
    "import numpy as np"
   ]
  },
  {
   "cell_type": "code",
   "execution_count": 2,
   "id": "accepted-ocean",
   "metadata": {
    "ExecuteTime": {
     "end_time": "2021-04-27T19:13:46.476300Z",
     "start_time": "2021-04-27T19:13:46.463337Z"
    }
   },
   "outputs": [],
   "source": [
    "def LoadMovieLensData():\n",
    "    ml = MovieLens()\n",
    "    print(\"Loading movie ratings...\")\n",
    "    data = ml.load_movies_dataset()\n",
    "    print(\"\\nComputing movie popularity ranks...\")\n",
    "    rankings = ml.get_popularity_ranks()\n",
    "    return (ml, data, rankings)\n",
    "\n",
    "np.random.seed(0)\n",
    "random.seed(0)"
   ]
  },
  {
   "cell_type": "code",
   "execution_count": 3,
   "id": "controlling-motion",
   "metadata": {
    "ExecuteTime": {
     "end_time": "2021-04-27T19:14:15.526491Z",
     "start_time": "2021-04-27T19:13:46.479294Z"
    }
   },
   "outputs": [
    {
     "name": "stdout",
     "output_type": "stream",
     "text": [
      "Loading movie ratings...\n",
      "\n",
      "Computing movie popularity ranks...\n",
      "Estimating biases using als...\n",
      "Computing the cosine similarity matrix...\n",
      "Done computing similarity matrix.\n"
     ]
    }
   ],
   "source": [
    "# Load up common data set for the recommender algorithms\n",
    "(ml, evaluationData, rankings) = LoadMovieLensData()\n",
    "\n",
    "# Construct an Evaluator to, you know, evaluate them\n",
    "evaluator = Evaluator(evaluationData, rankings)\n",
    "\n",
    "# User-based KNN\n",
    "UserKNN = KNNBasic(sim_options = {'name': 'cosine', 'user_based': True}) \n",
    "evaluator.AddAlgorithm(UserKNN, \"User KNN\")\n",
    "\n",
    "# Item-based KNN\n",
    "ItemKNN = KNNBasic(sim_options = {'name': 'cosine', 'user_based': False}) \n",
    "evaluator.AddAlgorithm(ItemKNN, \"Item KNN\")\n",
    "\n",
    "#Try different metrics (msd, pearson, KNNWithZScore, KNNWithMeans, KNNBaseline)\n",
    "\n",
    "# Just make random recommendations\n",
    "Random = NormalPredictor()\n",
    "evaluator.AddAlgorithm(Random, \"Random\")"
   ]
  },
  {
   "cell_type": "code",
   "execution_count": 4,
   "id": "developmental-murder",
   "metadata": {
    "ExecuteTime": {
     "end_time": "2021-04-27T19:15:01.483488Z",
     "start_time": "2021-04-27T19:14:15.529460Z"
    }
   },
   "outputs": [
    {
     "name": "stdout",
     "output_type": "stream",
     "text": [
      "Evaluating  User KNN ...\n",
      "Evaluating accuracy...\n",
      "Computing the cosine similarity matrix...\n",
      "Done computing similarity matrix.\n",
      "Analysis complete.\n",
      "Evaluating  Item KNN ...\n",
      "Evaluating accuracy...\n",
      "Computing the cosine similarity matrix...\n",
      "Done computing similarity matrix.\n",
      "Analysis complete.\n",
      "Evaluating  Random ...\n",
      "Evaluating accuracy...\n",
      "Analysis complete.\n",
      "\n",
      "\n",
      "Algorithm  RMSE       MAE       \n",
      "User KNN   0.9793     0.7548    \n",
      "Item KNN   0.9815     0.7623    \n",
      "Random     1.4243     1.1353    \n",
      "\n",
      "Legend:\n",
      "\n",
      "RMSE:      Root Mean Squared Error. Lower values mean better accuracy.\n",
      "MAE:       Mean Absolute Error. Lower values mean better accuracy.\n",
      "\n",
      "Using recommender  User KNN\n",
      "\n",
      "Building recommendation model...\n",
      "Computing the cosine similarity matrix...\n",
      "Done computing similarity matrix.\n",
      "Computing recommendations...\n",
      "\n",
      "We recommend:\n",
      "I'm the One That I Want (2000) 5\n",
      "Elling (2001) 5\n",
      "Far From Home: The Adventures of Yellow Dog (1995) 5\n",
      "It's My Party (1996) 5\n",
      "Children of the Corn IV: The Gathering (1996) 5\n",
      "Lesson Faust (1994) 5\n",
      "Black Mirror 5\n",
      "Dylan Moran: Monster (2004) 5\n",
      "Bill Hicks: Revelations (1993) 5\n",
      "My Sassy Girl (Yeopgijeogin geunyeo) (2001) 5\n",
      "\n",
      "Using recommender  Item KNN\n",
      "\n",
      "Building recommendation model...\n",
      "Computing the cosine similarity matrix...\n",
      "Done computing similarity matrix.\n",
      "Computing recommendations...\n",
      "\n",
      "We recommend:\n",
      "Heat (1995) 5\n",
      "Seven (a.k.a. Se7en) (1995) 5\n",
      "Usual Suspects, The (1995) 5\n",
      "From Dusk Till Dawn (1996) 5\n",
      "Bottle Rocket (1996) 5\n",
      "Braveheart (1995) 5\n",
      "Rob Roy (1995) 5\n",
      "Canadian Bacon (1995) 5\n",
      "Billy Madison (1995) 5\n",
      "Clerks (1994) 5\n",
      "\n",
      "Using recommender  Random\n",
      "\n",
      "Building recommendation model...\n",
      "Computing recommendations...\n",
      "\n",
      "We recommend:\n",
      "Twister (1996) 5\n",
      "Three Caballeros, The (1945) 5\n",
      "Star Wars: Episode VI - Return of the Jedi (1983) 5\n",
      "Last of the Mohicans, The (1992) 5\n",
      "Back to the Future Part III (1990) 5\n",
      "American Tail, An (1986) 5\n",
      "American History X (1998) 5\n",
      "Very Bad Things (1998) 5\n",
      "Romancing the Stone (1984) 5\n",
      "Howard the Duck (1986) 5\n"
     ]
    }
   ],
   "source": [
    "#Compare\n",
    "evaluator.Evaluate(False)\n",
    "\n",
    "evaluator.SampleTopNRecs(ml)"
   ]
  },
  {
   "cell_type": "code",
   "execution_count": null,
   "id": "intended-brain",
   "metadata": {},
   "outputs": [],
   "source": []
  }
 ],
 "metadata": {
  "kernelspec": {
   "display_name": "Python [conda env:metis] *",
   "language": "python",
   "name": "conda-env-metis-py"
  },
  "language_info": {
   "codemirror_mode": {
    "name": "ipython",
    "version": 3
   },
   "file_extension": ".py",
   "mimetype": "text/x-python",
   "name": "python",
   "nbconvert_exporter": "python",
   "pygments_lexer": "ipython3",
   "version": "3.8.8"
  },
  "toc": {
   "base_numbering": 1,
   "nav_menu": {},
   "number_sections": true,
   "sideBar": true,
   "skip_h1_title": false,
   "title_cell": "Table of Contents",
   "title_sidebar": "Contents",
   "toc_cell": false,
   "toc_position": {},
   "toc_section_display": true,
   "toc_window_display": false
  },
  "varInspector": {
   "cols": {
    "lenName": 16,
    "lenType": 16,
    "lenVar": 40
   },
   "kernels_config": {
    "python": {
     "delete_cmd_postfix": "",
     "delete_cmd_prefix": "del ",
     "library": "var_list.py",
     "varRefreshCmd": "print(var_dic_list())"
    },
    "r": {
     "delete_cmd_postfix": ") ",
     "delete_cmd_prefix": "rm(",
     "library": "var_list.r",
     "varRefreshCmd": "cat(var_dic_list()) "
    }
   },
   "types_to_exclude": [
    "module",
    "function",
    "builtin_function_or_method",
    "instance",
    "_Feature"
   ],
   "window_display": false
  }
 },
 "nbformat": 4,
 "nbformat_minor": 5
}
