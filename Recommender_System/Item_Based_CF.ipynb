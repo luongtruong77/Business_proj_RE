{
 "cells": [
  {
   "cell_type": "code",
   "execution_count": 1,
   "id": "center-railway",
   "metadata": {
    "ExecuteTime": {
     "end_time": "2021-04-27T17:21:23.497396Z",
     "start_time": "2021-04-27T17:21:22.695394Z"
    }
   },
   "outputs": [],
   "source": [
    "from MovieLens import MovieLens\n",
    "from surprise import KNNBasic\n",
    "import heapq\n",
    "from collections import defaultdict\n",
    "from operator import itemgetter\n",
    "        \n",
    "test_subject = '793'\n",
    "k = 10"
   ]
  },
  {
   "cell_type": "code",
   "execution_count": 2,
   "id": "twelve-metallic",
   "metadata": {
    "ExecuteTime": {
     "end_time": "2021-04-27T17:21:23.840477Z",
     "start_time": "2021-04-27T17:21:23.499390Z"
    }
   },
   "outputs": [],
   "source": [
    "# Load our data set and compute the user similarity matrix\n",
    "ml = MovieLens()\n",
    "data = ml.load_movies_dataset()\n",
    "\n",
    "\n",
    "train_set = data.build_full_trainset()\n",
    "\n",
    "#We use cosine similarity and user_based set to False (item_based is True)\n",
    "sim_options = {'name': 'cosine',\n",
    "               'user_based': False\n",
    "               }"
   ]
  },
  {
   "cell_type": "code",
   "execution_count": 3,
   "id": "diagnostic-trinidad",
   "metadata": {
    "ExecuteTime": {
     "end_time": "2021-04-27T17:21:57.906669Z",
     "start_time": "2021-04-27T17:21:23.842473Z"
    }
   },
   "outputs": [
    {
     "name": "stdout",
     "output_type": "stream",
     "text": [
      "Computing the cosine similarity matrix...\n",
      "Done computing similarity matrix.\n",
      "Computing the cosine similarity matrix...\n",
      "Done computing similarity matrix.\n"
     ]
    }
   ],
   "source": [
    "#Build the model using KNN basic with k =40 by defult. There are other algorithms such as \n",
    "#KNNWithMeans, KNNWithZScore, KNNBaseline\n",
    "model = KNNBasic(sim_options=sim_options)\n",
    "\n",
    "#Fit the model on the train_set\n",
    "model.fit(train_set)\n",
    "\n",
    "#Compute the similarity matrix\n",
    "sims_matrix = model.compute_similarities()"
   ]
  },
  {
   "cell_type": "code",
   "execution_count": 4,
   "id": "voluntary-limit",
   "metadata": {
    "ExecuteTime": {
     "end_time": "2021-04-27T17:21:57.921909Z",
     "start_time": "2021-04-27T17:21:57.908639Z"
    }
   },
   "outputs": [],
   "source": [
    "test_user_inner_ID = train_set.to_inner_uid(test_subject)\n",
    "\n",
    "# Get the top K items we rated\n",
    "test_user_ratings = train_set.ur[test_user_inner_ID]"
   ]
  },
  {
   "cell_type": "code",
   "execution_count": 5,
   "id": "instant-liverpool",
   "metadata": {
    "ExecuteTime": {
     "end_time": "2021-04-27T17:21:57.952817Z",
     "start_time": "2021-04-27T17:21:57.924856Z"
    }
   },
   "outputs": [],
   "source": [
    "k_neighbors = []\n",
    "for rating in test_user_ratings:\n",
    "    if rating[1] > 4.0:\n",
    "        k_neighbors.append(rating)\n",
    "\n",
    "# Get similar items to stuff we liked (weighted by rating)\n",
    "candidates = defaultdict(float)\n",
    "for itemID, rating in k_neighbors:\n",
    "    similarity_row = sims_matrix[itemID]\n",
    "    for innerID, score in enumerate(similarity_row):\n",
    "        candidates[innerID] += score * (rating / 5.0)\n",
    "    \n",
    "# Build a dictionary of stuff the user has already seen\n",
    "watched = {}\n",
    "for itemID, rating in train_set.ur[test_user_inner_ID]:\n",
    "    watched[itemID] = 1"
   ]
  },
  {
   "cell_type": "code",
   "execution_count": 6,
   "id": "monetary-columbia",
   "metadata": {
    "ExecuteTime": {
     "end_time": "2021-04-27T17:21:57.968777Z",
     "start_time": "2021-04-27T17:21:57.954814Z"
    }
   },
   "outputs": [
    {
     "name": "stdout",
     "output_type": "stream",
     "text": [
      "Making Mr. Right (1987) 3.0\n",
      "Sunshine State (2002) 3.0\n",
      "Program, The (1993) 3.0\n",
      "Fifty Shades of Grey (2015) 3.0\n",
      "Surf Nazis Must Die (1987) 3.0\n",
      "Fellini Satyricon (1969) 3.0\n",
      "Santa Sangre (1989) 3.0\n",
      "Lola MontÃ¨s (1955) 3.0\n",
      "Dresser, The (1983) 3.0\n",
      "Dog Days (Hundstage) (2001) 3.0\n",
      "Tanguy (2001) 3.0\n"
     ]
    }
   ],
   "source": [
    "# Get top-rated items from similar users:\n",
    "pos = 0\n",
    "for itemID, rating_sum in sorted(candidates.items(), key=itemgetter(1), reverse=True):\n",
    "    if not itemID in watched:\n",
    "        movieID = train_set.to_raw_iid(itemID)\n",
    "        print(ml.get_movie_name(int(movieID)), rating_sum)\n",
    "        pos += 1\n",
    "        if (pos > 10):\n",
    "            break"
   ]
  },
  {
   "cell_type": "code",
   "execution_count": null,
   "id": "muslim-capture",
   "metadata": {},
   "outputs": [],
   "source": []
  }
 ],
 "metadata": {
  "kernelspec": {
   "display_name": "Python [conda env:metis] *",
   "language": "python",
   "name": "conda-env-metis-py"
  },
  "language_info": {
   "codemirror_mode": {
    "name": "ipython",
    "version": 3
   },
   "file_extension": ".py",
   "mimetype": "text/x-python",
   "name": "python",
   "nbconvert_exporter": "python",
   "pygments_lexer": "ipython3",
   "version": "3.8.8"
  },
  "toc": {
   "base_numbering": 1,
   "nav_menu": {},
   "number_sections": true,
   "sideBar": true,
   "skip_h1_title": false,
   "title_cell": "Table of Contents",
   "title_sidebar": "Contents",
   "toc_cell": false,
   "toc_position": {},
   "toc_section_display": true,
   "toc_window_display": false
  },
  "varInspector": {
   "cols": {
    "lenName": 16,
    "lenType": 16,
    "lenVar": 40
   },
   "kernels_config": {
    "python": {
     "delete_cmd_postfix": "",
     "delete_cmd_prefix": "del ",
     "library": "var_list.py",
     "varRefreshCmd": "print(var_dic_list())"
    },
    "r": {
     "delete_cmd_postfix": ") ",
     "delete_cmd_prefix": "rm(",
     "library": "var_list.r",
     "varRefreshCmd": "cat(var_dic_list()) "
    }
   },
   "types_to_exclude": [
    "module",
    "function",
    "builtin_function_or_method",
    "instance",
    "_Feature"
   ],
   "window_display": false
  }
 },
 "nbformat": 4,
 "nbformat_minor": 5
}
