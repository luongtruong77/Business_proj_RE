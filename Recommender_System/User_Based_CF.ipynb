{
 "cells": [
  {
   "cell_type": "code",
   "execution_count": 1,
   "id": "average-destination",
   "metadata": {
    "ExecuteTime": {
     "end_time": "2021-04-27T15:04:30.145106Z",
     "start_time": "2021-04-27T15:04:28.786643Z"
    }
   },
   "outputs": [
    {
     "name": "stdout",
     "output_type": "stream",
     "text": [
      "Libraries imported!\n"
     ]
    }
   ],
   "source": [
    "from MovieLens import MovieLens\n",
    "from surprise import KNNBasic\n",
    "import heapq\n",
    "from collections import defaultdict\n",
    "from operator import itemgetter\n",
    "\n",
    "print('Libraries imported!')"
   ]
  },
  {
   "cell_type": "code",
   "execution_count": 2,
   "id": "smooth-cooking",
   "metadata": {
    "ExecuteTime": {
     "end_time": "2021-04-27T15:04:30.160069Z",
     "start_time": "2021-04-27T15:04:30.149096Z"
    }
   },
   "outputs": [],
   "source": [
    "#Run the engine around the user_id 793\n",
    "\n",
    "test_subject = '793'\n",
    "k = 10"
   ]
  },
  {
   "cell_type": "code",
   "execution_count": 3,
   "id": "earlier-dependence",
   "metadata": {
    "ExecuteTime": {
     "end_time": "2021-04-27T15:04:30.626091Z",
     "start_time": "2021-04-27T15:04:30.164057Z"
    }
   },
   "outputs": [],
   "source": [
    "# Load our data set and compute the user similarity matrix\n",
    "ml = MovieLens()\n",
    "data = ml.load_movies_dataset()"
   ]
  },
  {
   "cell_type": "markdown",
   "id": "suited-lloyd",
   "metadata": {},
   "source": [
    "#We use the [build_full_trainset()](https://surprise.readthedocs.io/en/stable/dataset.html#surprise.dataset.DatasetAutoFolds.build_full_trainset) from surprise to train on the whole dataset."
   ]
  },
  {
   "cell_type": "code",
   "execution_count": 14,
   "id": "clear-somewhere",
   "metadata": {
    "ExecuteTime": {
     "end_time": "2021-04-27T15:58:44.073650Z",
     "start_time": "2021-04-27T15:58:43.936445Z"
    }
   },
   "outputs": [],
   "source": [
    "train_set = data.build_full_trainset()\n",
    "\n",
    "#We use cosine similarity and user_based\n",
    "sim_options = {'name': 'cosine',\n",
    "               'user_based': True\n",
    "               }\n"
   ]
  },
  {
   "cell_type": "code",
   "execution_count": 5,
   "id": "quarterly-robin",
   "metadata": {
    "ExecuteTime": {
     "end_time": "2021-04-27T15:04:32.420035Z",
     "start_time": "2021-04-27T15:04:30.786095Z"
    }
   },
   "outputs": [
    {
     "name": "stdout",
     "output_type": "stream",
     "text": [
      "Computing the cosine similarity matrix...\n",
      "Done computing similarity matrix.\n",
      "Computing the cosine similarity matrix...\n",
      "Done computing similarity matrix.\n"
     ]
    }
   ],
   "source": [
    "#Build the model using KNN basic with k =40 by defult. There are other algorithms such as \n",
    "#KNNWithMeans, KNNWithZScore, KNNBaseline\n",
    "model = KNNBasic(sim_options=sim_options)\n",
    "\n",
    "#Fit the model on the train_set\n",
    "model.fit(train_set)\n",
    "\n",
    "#Compute the similarity matrix\n",
    "sims_matrix = model.compute_similarities()"
   ]
  },
  {
   "cell_type": "code",
   "execution_count": 6,
   "id": "urban-beginning",
   "metadata": {
    "ExecuteTime": {
     "end_time": "2021-04-27T15:04:32.435991Z",
     "start_time": "2021-04-27T15:04:32.423979Z"
    }
   },
   "outputs": [],
   "source": [
    "# Get top N similar users to our test subject\n",
    "\n",
    "test_user_inner_ID = train_set.to_inner_uid(test_subject)\n",
    "\n",
    "similarity_row = sims_matrix[test_user_inner_ID]"
   ]
  },
  {
   "cell_type": "code",
   "execution_count": 7,
   "id": "according-french",
   "metadata": {
    "ExecuteTime": {
     "end_time": "2021-04-27T15:04:32.450939Z",
     "start_time": "2021-04-27T15:04:32.438940Z"
    }
   },
   "outputs": [
    {
     "data": {
      "text/plain": [
       "610"
      ]
     },
     "execution_count": 7,
     "metadata": {},
     "output_type": "execute_result"
    }
   ],
   "source": [
    "test_user_inner_ID"
   ]
  },
  {
   "cell_type": "code",
   "execution_count": 8,
   "id": "acute-worker",
   "metadata": {
    "ExecuteTime": {
     "end_time": "2021-04-27T15:04:32.466422Z",
     "start_time": "2021-04-27T15:04:32.453901Z"
    },
    "scrolled": true
   },
   "outputs": [
    {
     "data": {
      "text/plain": [
       "array([0.9701425, 0.       , 0.       , 0.9486833, 1.       ])"
      ]
     },
     "execution_count": 8,
     "metadata": {},
     "output_type": "execute_result"
    }
   ],
   "source": [
    "similarity_row[:5]"
   ]
  },
  {
   "cell_type": "code",
   "execution_count": 9,
   "id": "simplified-briefing",
   "metadata": {
    "ExecuteTime": {
     "end_time": "2021-04-27T15:04:32.482311Z",
     "start_time": "2021-04-27T15:04:32.472339Z"
    },
    "scrolled": true
   },
   "outputs": [
    {
     "data": {
      "text/plain": [
       "[(0, 0.9701425001453319),\n",
       " (1, 0.0),\n",
       " (2, 0.0),\n",
       " (3, 0.9486832980505138),\n",
       " (4, 1.0)]"
      ]
     },
     "execution_count": 9,
     "metadata": {},
     "output_type": "execute_result"
    }
   ],
   "source": [
    "similar_users = []\n",
    "for innerID, score in enumerate(similarity_row):\n",
    "    if (innerID != test_user_inner_ID):\n",
    "        similar_users.append( (innerID, score) )\n",
    "\n",
    "similar_users[:5]"
   ]
  },
  {
   "cell_type": "code",
   "execution_count": 10,
   "id": "cathedral-carroll",
   "metadata": {
    "ExecuteTime": {
     "end_time": "2021-04-27T15:04:32.498301Z",
     "start_time": "2021-04-27T15:04:32.486303Z"
    }
   },
   "outputs": [
    {
     "data": {
      "text/plain": [
       "[(4, 1.0), (5, 1.0), (7, 1.0), (13, 1.0), (15, 0.9970544855015816)]"
      ]
     },
     "execution_count": 10,
     "metadata": {},
     "output_type": "execute_result"
    }
   ],
   "source": [
    "k_neighbors = []\n",
    "for rating in similar_users:\n",
    "    if rating[1] > 0.98:\n",
    "        k_neighbors.append(rating)\n",
    "        \n",
    "k_neighbors[:5]"
   ]
  },
  {
   "cell_type": "code",
   "execution_count": 11,
   "id": "breeding-midwest",
   "metadata": {
    "ExecuteTime": {
     "end_time": "2021-04-27T15:04:32.560614Z",
     "start_time": "2021-04-27T15:04:32.500295Z"
    }
   },
   "outputs": [],
   "source": [
    "# Get the stuff they rated, and add up ratings for each item, weighted by user similarity\n",
    "candidates = defaultdict(float)\n",
    "for similar_users in k_neighbors:\n",
    "    innerID = similar_users[0]\n",
    "    user_similarity_score = similar_users[1]\n",
    "    their_ratings = train_set.ur[innerID]\n",
    "    for rating in their_ratings:\n",
    "        candidates[rating[0]] += (rating[1] / 5.0) * user_similarity_score\n"
   ]
  },
  {
   "cell_type": "code",
   "execution_count": 12,
   "id": "resident-board",
   "metadata": {
    "ExecuteTime": {
     "end_time": "2021-04-27T15:04:32.576535Z",
     "start_time": "2021-04-27T15:04:32.562596Z"
    }
   },
   "outputs": [],
   "source": [
    "# Build a dictionary of stuff the user has already seen\n",
    "watched = {}\n",
    "for itemID, rating in train_set.ur[test_user_inner_ID]:\n",
    "    watched[itemID] = 1"
   ]
  },
  {
   "cell_type": "code",
   "execution_count": 13,
   "id": "precise-deficit",
   "metadata": {
    "ExecuteTime": {
     "end_time": "2021-04-27T15:04:32.592462Z",
     "start_time": "2021-04-27T15:04:32.579497Z"
    }
   },
   "outputs": [
    {
     "name": "stdout",
     "output_type": "stream",
     "text": [
      "We found movies you might like: \n",
      "------------------------------\n",
      "Shawshank Redemption, The (1994) 223.47883266615042\n",
      "Forrest Gump (1994) 204.6865684359344\n",
      "Silence of the Lambs, The (1991) 179.67734255097443\n",
      "Matrix, The (1999) 173.27405052589975\n",
      "Braveheart (1995) 150.42314467529476\n",
      "Usual Suspects, The (1995) 144.59372102028402\n",
      "Seven (a.k.a. Se7en) (1995) 142.74794212185282\n",
      "Schindler's List (1993) 142.28924856846652\n",
      "Star Wars: Episode IV - A New Hope (1977) 139.7184312328547\n",
      "Terminator 2: Judgment Day (1991) 134.60949475351202\n",
      "Jurassic Park (1993) 130.50161225904904\n"
     ]
    }
   ],
   "source": [
    "# Get top-rated items from similar users:\n",
    "print(\"We found movies you might like: \")\n",
    "print(\"------------------------------\")\n",
    "pos = 0\n",
    "for itemID, rating_sum in sorted(candidates.items(), key=itemgetter(1), reverse=True):\n",
    "    if not itemID in watched:\n",
    "        movieID = train_set.to_raw_iid(itemID)\n",
    "        print(ml.get_movie_name(int(movieID)), rating_sum)\n",
    "        pos += 1\n",
    "        if (pos > 10):\n",
    "            break\n"
   ]
  },
  {
   "cell_type": "code",
   "execution_count": null,
   "id": "placed-afghanistan",
   "metadata": {},
   "outputs": [],
   "source": []
  }
 ],
 "metadata": {
  "kernelspec": {
   "display_name": "Python [conda env:metis] *",
   "language": "python",
   "name": "conda-env-metis-py"
  },
  "language_info": {
   "codemirror_mode": {
    "name": "ipython",
    "version": 3
   },
   "file_extension": ".py",
   "mimetype": "text/x-python",
   "name": "python",
   "nbconvert_exporter": "python",
   "pygments_lexer": "ipython3",
   "version": "3.8.8"
  },
  "toc": {
   "base_numbering": 1,
   "nav_menu": {},
   "number_sections": true,
   "sideBar": true,
   "skip_h1_title": false,
   "title_cell": "Table of Contents",
   "title_sidebar": "Contents",
   "toc_cell": false,
   "toc_position": {},
   "toc_section_display": true,
   "toc_window_display": false
  },
  "varInspector": {
   "cols": {
    "lenName": 16,
    "lenType": 16,
    "lenVar": 40
   },
   "kernels_config": {
    "python": {
     "delete_cmd_postfix": "",
     "delete_cmd_prefix": "del ",
     "library": "var_list.py",
     "varRefreshCmd": "print(var_dic_list())"
    },
    "r": {
     "delete_cmd_postfix": ") ",
     "delete_cmd_prefix": "rm(",
     "library": "var_list.r",
     "varRefreshCmd": "cat(var_dic_list()) "
    }
   },
   "types_to_exclude": [
    "module",
    "function",
    "builtin_function_or_method",
    "instance",
    "_Feature"
   ],
   "window_display": false
  }
 },
 "nbformat": 4,
 "nbformat_minor": 5
}
