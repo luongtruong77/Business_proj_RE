{
 "cells": [
  {
   "cell_type": "code",
   "execution_count": 1,
   "id": "antique-chassis",
   "metadata": {
    "ExecuteTime": {
     "end_time": "2021-04-26T19:50:54.663234Z",
     "start_time": "2021-04-26T19:50:54.091762Z"
    }
   },
   "outputs": [
    {
     "name": "stdout",
     "output_type": "stream",
     "text": [
      "Libraries imported!\n"
     ]
    }
   ],
   "source": [
    "#Importing packages\n",
    "import warnings\n",
    "warnings.filterwarnings(\"ignore\")\n",
    "import pandas as pd\n",
    "import numpy as np\n",
    "\n",
    "print(\"Libraries imported!\")"
   ]
  },
  {
   "cell_type": "code",
   "execution_count": 2,
   "id": "exceptional-football",
   "metadata": {
    "ExecuteTime": {
     "end_time": "2021-04-26T19:50:54.801863Z",
     "start_time": "2021-04-26T19:50:54.666226Z"
    }
   },
   "outputs": [
    {
     "name": "stdout",
     "output_type": "stream",
     "text": [
      "(100836, 4)\n"
     ]
    },
    {
     "data": {
      "text/html": [
       "<div>\n",
       "<style scoped>\n",
       "    .dataframe tbody tr th:only-of-type {\n",
       "        vertical-align: middle;\n",
       "    }\n",
       "\n",
       "    .dataframe tbody tr th {\n",
       "        vertical-align: top;\n",
       "    }\n",
       "\n",
       "    .dataframe thead th {\n",
       "        text-align: right;\n",
       "    }\n",
       "</style>\n",
       "<table border=\"1\" class=\"dataframe\">\n",
       "  <thead>\n",
       "    <tr style=\"text-align: right;\">\n",
       "      <th></th>\n",
       "      <th>movieId</th>\n",
       "      <th>title</th>\n",
       "      <th>userId</th>\n",
       "      <th>rating</th>\n",
       "    </tr>\n",
       "  </thead>\n",
       "  <tbody>\n",
       "    <tr>\n",
       "      <th>0</th>\n",
       "      <td>1</td>\n",
       "      <td>Toy Story (1995)</td>\n",
       "      <td>1</td>\n",
       "      <td>4.0</td>\n",
       "    </tr>\n",
       "    <tr>\n",
       "      <th>1</th>\n",
       "      <td>1</td>\n",
       "      <td>Toy Story (1995)</td>\n",
       "      <td>5</td>\n",
       "      <td>4.0</td>\n",
       "    </tr>\n",
       "    <tr>\n",
       "      <th>2</th>\n",
       "      <td>1</td>\n",
       "      <td>Toy Story (1995)</td>\n",
       "      <td>7</td>\n",
       "      <td>4.5</td>\n",
       "    </tr>\n",
       "    <tr>\n",
       "      <th>3</th>\n",
       "      <td>1</td>\n",
       "      <td>Toy Story (1995)</td>\n",
       "      <td>15</td>\n",
       "      <td>2.5</td>\n",
       "    </tr>\n",
       "    <tr>\n",
       "      <th>4</th>\n",
       "      <td>1</td>\n",
       "      <td>Toy Story (1995)</td>\n",
       "      <td>17</td>\n",
       "      <td>4.5</td>\n",
       "    </tr>\n",
       "  </tbody>\n",
       "</table>\n",
       "</div>"
      ],
      "text/plain": [
       "   movieId             title  userId  rating\n",
       "0        1  Toy Story (1995)       1     4.0\n",
       "1        1  Toy Story (1995)       5     4.0\n",
       "2        1  Toy Story (1995)       7     4.5\n",
       "3        1  Toy Story (1995)      15     2.5\n",
       "4        1  Toy Story (1995)      17     4.5"
      ]
     },
     "execution_count": 2,
     "metadata": {},
     "output_type": "execute_result"
    }
   ],
   "source": [
    "r_cols = ['user_id', 'movie_id', 'rating']\n",
    "\n",
    "ratings = pd.read_csv('data/ml-latest-small/ratings.csv')\n",
    "\n",
    "m_cols = ['movie_id', 'title']\n",
    "movies = pd.read_csv('data/ml-latest-small/movies.csv')\n",
    "\n",
    "ratings_df = pd.merge(movies, ratings)\n",
    "\n",
    "ratings_df = ratings_df[['movieId', 'title', 'userId', 'rating']]\n",
    "\n",
    "print(ratings_df.shape)\n",
    "\n",
    "ratings_df.head()"
   ]
  },
  {
   "cell_type": "raw",
   "id": "grave-niger",
   "metadata": {
    "ExecuteTime": {
     "end_time": "2021-04-26T19:42:01.253343Z",
     "start_time": "2021-04-26T19:41:59.799123Z"
    }
   },
   "source": [
    "ratings_df = ratings_df.sample(150000, random_state=42)\n",
    "ratings_df.head()"
   ]
  },
  {
   "cell_type": "code",
   "execution_count": 3,
   "id": "passing-albania",
   "metadata": {
    "ExecuteTime": {
     "end_time": "2021-04-26T19:50:54.817650Z",
     "start_time": "2021-04-26T19:50:54.804856Z"
    }
   },
   "outputs": [],
   "source": [
    "ratings_df_coumns = ['movieId', 'title', 'userId', 'rating']\n",
    "\n",
    "def add_fav_movies(title, userId, rating):\n",
    "    \n",
    "    movieId = ratings_df[ratings_df.title.str.contains(title)].movieId.values[0]\n",
    "    \n",
    "    title = ratings_df[ratings_df.title.str.contains(title)].title.values[0]\n",
    "    \n",
    "    ratings_df.loc[len(ratings_df)] = [movieId, title, userId, rating]\n",
    "    \n",
    "    return print(ratings_df.tail(5))"
   ]
  },
  {
   "cell_type": "code",
   "execution_count": 4,
   "id": "architectural-bennett",
   "metadata": {
    "ExecuteTime": {
     "end_time": "2021-04-26T19:50:54.833608Z",
     "start_time": "2021-04-26T19:50:54.820643Z"
    }
   },
   "outputs": [],
   "source": [
    "def run_rec_engine(min_periods, userId):\n",
    "    \n",
    "    user_ratings = ratings_df.pivot_table(index=['userId'], columns=['title'], values='rating')\n",
    "    \n",
    "    corr_matrix = user_ratings.corr(method='pearson', min_periods=min_periods)\n",
    "    \n",
    "    my_ratings = user_ratings.loc[userId].dropna()\n",
    "    \n",
    "    sim_candidates = pd.Series()\n",
    "\n",
    "    for i in range(0, len(my_ratings.index)):\n",
    "        \n",
    "        print(\"Adding similarity for {} ...\".format(my_ratings.index[i]))\n",
    "        \n",
    "        #Retrive similar movies for the one that I rated\n",
    "        sims = corr_matrix[my_ratings.index[i]].dropna()\n",
    "        \n",
    "        #Scale its similarity by how well I rated this movie\n",
    "        sims = sims.map(lambda x: x * my_ratings[i])\n",
    "        \n",
    "        #Add the score to the list of similarity candidates\n",
    "        sim_candidates = sim_candidates.append(sims)\n",
    "    print(\"----------------------\")\n",
    "    print(\"Based on your watching history, we found movies that you might like:\")\n",
    "    sim_candidates = sim_candidates.groupby(sim_candidates.index).sum()\n",
    "    \n",
    "    sim_candidates.sort_values(inplace=True, ascending=False)\n",
    "    \n",
    "    #filtered_candidates = sim_candidates.drop(my_ratings.index)\n",
    "    \n",
    "    return sim_candidates[len(my_ratings.index):len(my_ratings.index)+10]"
   ]
  },
  {
   "cell_type": "code",
   "execution_count": 5,
   "id": "heard-american",
   "metadata": {
    "ExecuteTime": {
     "end_time": "2021-04-26T19:50:55.223217Z",
     "start_time": "2021-04-26T19:50:54.835603Z"
    }
   },
   "outputs": [
    {
     "name": "stdout",
     "output_type": "stream",
     "text": [
      "        movieId                                title  userId  rating\n",
      "100832   193583         No Game No Life: Zero (2017)     184     3.5\n",
      "100833   193585                         Flint (2017)     184     3.5\n",
      "100834   193587  Bungo Stray Dogs: Dead Apple (2018)     184     3.5\n",
      "100835   193609  Andrew Dice Clay: Dice Rules (1991)     331     4.0\n",
      "100836     1213                    Goodfellas (1990)  771993     5.0\n",
      "        movieId                                title  userId  rating\n",
      "100833   193585                         Flint (2017)     184     3.5\n",
      "100834   193587  Bungo Stray Dogs: Dead Apple (2018)     184     3.5\n",
      "100835   193609  Andrew Dice Clay: Dice Rules (1991)     331     4.0\n",
      "100836     1213                    Goodfellas (1990)  771993     5.0\n",
      "100837      296                  Pulp Fiction (1994)  771993     5.0\n",
      "        movieId                                title  userId  rating\n",
      "100834   193587  Bungo Stray Dogs: Dead Apple (2018)     184     3.5\n",
      "100835   193609  Andrew Dice Clay: Dice Rules (1991)     331     4.0\n",
      "100836     1213                    Goodfellas (1990)  771993     5.0\n",
      "100837      296                  Pulp Fiction (1994)  771993     5.0\n",
      "100838     2959                    Fight Club (1999)  771993     5.0\n"
     ]
    }
   ],
   "source": [
    "add_fav_movies('Goodfellas', 771993, 5)\n",
    "add_fav_movies('Pulp Fiction', 771993, 5)\n",
    "add_fav_movies('Fight Club', 771993, 5)"
   ]
  },
  {
   "cell_type": "code",
   "execution_count": 6,
   "id": "soviet-intake",
   "metadata": {
    "ExecuteTime": {
     "end_time": "2021-04-26T19:50:55.255132Z",
     "start_time": "2021-04-26T19:50:55.226209Z"
    }
   },
   "outputs": [
    {
     "name": "stdout",
     "output_type": "stream",
     "text": [
      "<class 'pandas.core.frame.DataFrame'>\n",
      "Int64Index: 100839 entries, 0 to 100838\n",
      "Data columns (total 4 columns):\n",
      " #   Column   Non-Null Count   Dtype  \n",
      "---  ------   --------------   -----  \n",
      " 0   movieId  100839 non-null  int64  \n",
      " 1   title    100839 non-null  object \n",
      " 2   userId   100839 non-null  int64  \n",
      " 3   rating   100839 non-null  float64\n",
      "dtypes: float64(1), int64(2), object(1)\n",
      "memory usage: 3.8+ MB\n"
     ]
    }
   ],
   "source": [
    "ratings_df.info()"
   ]
  },
  {
   "cell_type": "code",
   "execution_count": 7,
   "id": "mechanical-physiology",
   "metadata": {
    "ExecuteTime": {
     "end_time": "2021-04-26T19:51:33.917711Z",
     "start_time": "2021-04-26T19:50:55.259120Z"
    }
   },
   "outputs": [
    {
     "name": "stdout",
     "output_type": "stream",
     "text": [
      "Adding similarity for Fight Club (1999) ...\n",
      "Adding similarity for Goodfellas (1990) ...\n",
      "Adding similarity for Pulp Fiction (1994) ...\n",
      "----------------------\n",
      "Based on your watching history, we found movies that you might like:\n"
     ]
    },
    {
     "data": {
      "text/plain": [
       "Reservoir Dogs (1992)               4.280640\n",
       "Godfather, The (1972)               4.049915\n",
       "Seven (a.k.a. Se7en) (1995)         3.996019\n",
       "Usual Suspects, The (1995)          3.852162\n",
       "Memento (2000)                      3.805228\n",
       "Matrix, The (1999)                  3.738990\n",
       "Sixth Sense, The (1999)             3.091920\n",
       "American Beauty (1999)              2.934422\n",
       "Silence of the Lambs, The (1991)    2.829744\n",
       "Saving Private Ryan (1998)          2.766417\n",
       "dtype: float64"
      ]
     },
     "execution_count": 7,
     "metadata": {},
     "output_type": "execute_result"
    }
   ],
   "source": [
    "run_rec_engine(100, 771993)"
   ]
  },
  {
   "cell_type": "code",
   "execution_count": 8,
   "id": "bacterial-thriller",
   "metadata": {
    "ExecuteTime": {
     "end_time": "2021-04-26T19:52:11.336300Z",
     "start_time": "2021-04-26T19:51:33.921730Z"
    }
   },
   "outputs": [
    {
     "name": "stdout",
     "output_type": "stream",
     "text": [
      "        movieId                                title  userId  rating\n",
      "100835   193609  Andrew Dice Clay: Dice Rules (1991)     331     4.0\n",
      "100836     1213                    Goodfellas (1990)  771993     5.0\n",
      "100837      296                  Pulp Fiction (1994)  771993     5.0\n",
      "100838     2959                    Fight Club (1999)  771993     5.0\n",
      "100839     8533                 Notebook, The (2004)    7794     5.0\n",
      "        movieId                 title  userId  rating\n",
      "100836     1213     Goodfellas (1990)  771993     5.0\n",
      "100837      296   Pulp Fiction (1994)  771993     5.0\n",
      "100838     2959     Fight Club (1999)  771993     5.0\n",
      "100839     8533  Notebook, The (2004)    7794     5.0\n",
      "100840   112556      Gone Girl (2014)    7794     5.0\n",
      "        movieId                 title  userId  rating\n",
      "100837      296   Pulp Fiction (1994)  771993     5.0\n",
      "100838     2959     Fight Club (1999)  771993     5.0\n",
      "100839     8533  Notebook, The (2004)    7794     5.0\n",
      "100840   112556      Gone Girl (2014)    7794     5.0\n",
      "100841    88810      Help, The (2011)    7794     5.0\n",
      "Adding similarity for Gone Girl (2014) ...\n",
      "Adding similarity for Help, The (2011) ...\n",
      "Adding similarity for Notebook, The (2004) ...\n",
      "----------------------\n",
      "Based on your watching history, we found movies that you might like:\n"
     ]
    },
    {
     "data": {
      "text/plain": [
       "Hangover, The (2009)                4.256693\n",
       "Dark Knight, The (2008)             4.166958\n",
       "Silence of the Lambs, The (1991)    3.851933\n",
       "Inception (2010)                    3.737083\n",
       "Up (2009)                           3.583080\n",
       "Shrek (2001)                        3.561073\n",
       "Shawshank Redemption, The (1994)    3.386408\n",
       "Matrix, The (1999)                  3.290782\n",
       "Beautiful Mind, A (2001)            3.253030\n",
       "Titanic (1997)                      2.953113\n",
       "dtype: float64"
      ]
     },
     "execution_count": 8,
     "metadata": {},
     "output_type": "execute_result"
    }
   ],
   "source": [
    "add_fav_movies('Notebook', 7794, 5)\n",
    "add_fav_movies('Gone Girl', 7794, 5)\n",
    "add_fav_movies('Help, The', 7794, 5)\n",
    "run_rec_engine(20, 7794)"
   ]
  },
  {
   "cell_type": "code",
   "execution_count": 9,
   "id": "fantastic-alpha",
   "metadata": {
    "ExecuteTime": {
     "end_time": "2021-04-26T19:52:49.999504Z",
     "start_time": "2021-04-26T19:52:11.340291Z"
    }
   },
   "outputs": [
    {
     "name": "stdout",
     "output_type": "stream",
     "text": [
      "Adding similarity for Gone Girl (2014) ...\n",
      "Adding similarity for Help, The (2011) ...\n",
      "Adding similarity for Notebook, The (2004) ...\n",
      "----------------------\n",
      "Based on your watching history, we found movies that you might like:\n"
     ]
    },
    {
     "data": {
      "text/plain": [
       "Inception (2010)                    2.245427\n",
       "Shawshank Redemption, The (1994)    1.826625\n",
       "Fight Club (1999)                   1.563248\n",
       "dtype: float64"
      ]
     },
     "execution_count": 9,
     "metadata": {},
     "output_type": "execute_result"
    }
   ],
   "source": [
    "run_rec_engine(30, 7794)"
   ]
  },
  {
   "cell_type": "code",
   "execution_count": null,
   "id": "federal-warehouse",
   "metadata": {},
   "outputs": [],
   "source": []
  }
 ],
 "metadata": {
  "kernelspec": {
   "display_name": "Python [conda env:metis] *",
   "language": "python",
   "name": "conda-env-metis-py"
  },
  "language_info": {
   "codemirror_mode": {
    "name": "ipython",
    "version": 3
   },
   "file_extension": ".py",
   "mimetype": "text/x-python",
   "name": "python",
   "nbconvert_exporter": "python",
   "pygments_lexer": "ipython3",
   "version": "3.8.8"
  },
  "toc": {
   "base_numbering": 1,
   "nav_menu": {},
   "number_sections": true,
   "sideBar": true,
   "skip_h1_title": false,
   "title_cell": "Table of Contents",
   "title_sidebar": "Contents",
   "toc_cell": false,
   "toc_position": {},
   "toc_section_display": true,
   "toc_window_display": false
  },
  "varInspector": {
   "cols": {
    "lenName": 16,
    "lenType": 16,
    "lenVar": 40
   },
   "kernels_config": {
    "python": {
     "delete_cmd_postfix": "",
     "delete_cmd_prefix": "del ",
     "library": "var_list.py",
     "varRefreshCmd": "print(var_dic_list())"
    },
    "r": {
     "delete_cmd_postfix": ") ",
     "delete_cmd_prefix": "rm(",
     "library": "var_list.r",
     "varRefreshCmd": "cat(var_dic_list()) "
    }
   },
   "types_to_exclude": [
    "module",
    "function",
    "builtin_function_or_method",
    "instance",
    "_Feature"
   ],
   "window_display": false
  }
 },
 "nbformat": 4,
 "nbformat_minor": 5
}
